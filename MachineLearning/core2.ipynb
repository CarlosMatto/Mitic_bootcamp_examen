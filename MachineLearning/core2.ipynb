{
 "cells": [
  {
   "cell_type": "markdown",
   "metadata": {},
   "source": [
    "Análisis y Predicción de Precios de Autos (Core)\n",
    "\n",
    "Objetivo: \n",
    " Aplicar técnicas de regresión lineal, KNN y árboles de decisión para predecir precios de autos utilizando un dataset de Kaggle. Realizar un Análisis Exploratorio de Datos (EDA) completo y comparar el rendimiento de los modelos mediante benchmarking."
   ]
  },
  {
   "cell_type": "markdown",
   "metadata": {},
   "source": [
    "# Parte 1: Análisis Exploratorio de Datos (EDA)"
   ]
  },
  {
   "cell_type": "markdown",
   "metadata": {},
   "source": [
    "##  1. Carga y Exploración de Datos:\n",
    "\n",
    "* Cargar el dataset y revisar la estructura básica.\n",
    "* Descripción de las variables y su distribución.\n",
    "* Detección y tratamiento de valores nulos.\n",
    "* Identificación y tratamiento de outliers.\n",
    "* Análisis de correlación entre variables.\n"
   ]
  },
  {
   "cell_type": "code",
   "execution_count": 7,
   "metadata": {},
   "outputs": [],
   "source": [
    "import pandas as pd\n",
    "import numpy as np\n",
    "import matplotlib.pyplot as plt\n",
    "from sklearn.linear_model import LinearRegression\n",
    "from sklearn.neighbors import KNeighborsRegressor\n",
    "from sklearn.tree import DecisionTreeRegressor\n",
    "from sklearn.preprocessing import RobustScaler, StandardScaler, OneHotEncoder\n",
    "from sklearn.compose import ColumnTransformer\n",
    "from sklearn.ensemble import RandomForestRegressor\n",
    "from sklearn.pipeline import Pipeline\n",
    "from sklearn.impute import SimpleImputer\n",
    "from sklearn.model_selection import train_test_split\n",
    "from sklearn.metrics import mean_absolute_error, mean_squared_error, r2_score"
   ]
  },
  {
   "cell_type": "code",
   "execution_count": 3,
   "metadata": {},
   "outputs": [
    {
     "name": "stdout",
     "output_type": "stream",
     "text": [
      "(205, 26)\n",
      "Index(['symboling', 'normalized-losses', 'make', 'fuel-type', 'aspiration',\n",
      "       'num-of-doors', 'body-style', 'drive-wheels', 'engine-location',\n",
      "       'wheel-base', 'length', 'width', 'height', 'curb-weight', 'engine-type',\n",
      "       'num-of-cylinders', 'engine-size', 'fuel-system', 'bore', 'stroke',\n",
      "       'compression-ratio', 'horsepower', 'peak-rpm', 'city-mpg',\n",
      "       'highway-mpg', 'price'],\n",
      "      dtype='object')\n",
      "<class 'pandas.core.frame.DataFrame'>\n",
      "RangeIndex: 205 entries, 0 to 204\n",
      "Data columns (total 26 columns):\n",
      " #   Column             Non-Null Count  Dtype  \n",
      "---  ------             --------------  -----  \n",
      " 0   symboling          205 non-null    int64  \n",
      " 1   normalized-losses  205 non-null    object \n",
      " 2   make               205 non-null    object \n",
      " 3   fuel-type          205 non-null    object \n",
      " 4   aspiration         205 non-null    object \n",
      " 5   num-of-doors       205 non-null    object \n",
      " 6   body-style         205 non-null    object \n",
      " 7   drive-wheels       205 non-null    object \n",
      " 8   engine-location    205 non-null    object \n",
      " 9   wheel-base         205 non-null    float64\n",
      " 10  length             205 non-null    float64\n",
      " 11  width              205 non-null    float64\n",
      " 12  height             205 non-null    float64\n",
      " 13  curb-weight        205 non-null    int64  \n",
      " 14  engine-type        205 non-null    object \n",
      " 15  num-of-cylinders   205 non-null    object \n",
      " 16  engine-size        205 non-null    int64  \n",
      " 17  fuel-system        205 non-null    object \n",
      " 18  bore               205 non-null    object \n",
      " 19  stroke             205 non-null    object \n",
      " 20  compression-ratio  205 non-null    float64\n",
      " 21  horsepower         205 non-null    object \n",
      " 22  peak-rpm           205 non-null    object \n",
      " 23  city-mpg           205 non-null    int64  \n",
      " 24  highway-mpg        205 non-null    int64  \n",
      " 25  price              205 non-null    object \n",
      "dtypes: float64(5), int64(5), object(16)\n",
      "memory usage: 41.8+ KB\n"
     ]
    },
    {
     "data": {
      "text/html": [
       "<div>\n",
       "<style scoped>\n",
       "    .dataframe tbody tr th:only-of-type {\n",
       "        vertical-align: middle;\n",
       "    }\n",
       "\n",
       "    .dataframe tbody tr th {\n",
       "        vertical-align: top;\n",
       "    }\n",
       "\n",
       "    .dataframe thead th {\n",
       "        text-align: right;\n",
       "    }\n",
       "</style>\n",
       "<table border=\"1\" class=\"dataframe\">\n",
       "  <thead>\n",
       "    <tr style=\"text-align: right;\">\n",
       "      <th></th>\n",
       "      <th>symboling</th>\n",
       "      <th>normalized-losses</th>\n",
       "      <th>make</th>\n",
       "      <th>fuel-type</th>\n",
       "      <th>aspiration</th>\n",
       "      <th>num-of-doors</th>\n",
       "      <th>body-style</th>\n",
       "      <th>drive-wheels</th>\n",
       "      <th>engine-location</th>\n",
       "      <th>wheel-base</th>\n",
       "      <th>...</th>\n",
       "      <th>engine-size</th>\n",
       "      <th>fuel-system</th>\n",
       "      <th>bore</th>\n",
       "      <th>stroke</th>\n",
       "      <th>compression-ratio</th>\n",
       "      <th>horsepower</th>\n",
       "      <th>peak-rpm</th>\n",
       "      <th>city-mpg</th>\n",
       "      <th>highway-mpg</th>\n",
       "      <th>price</th>\n",
       "    </tr>\n",
       "  </thead>\n",
       "  <tbody>\n",
       "    <tr>\n",
       "      <th>0</th>\n",
       "      <td>3</td>\n",
       "      <td>?</td>\n",
       "      <td>alfa-romero</td>\n",
       "      <td>gas</td>\n",
       "      <td>std</td>\n",
       "      <td>two</td>\n",
       "      <td>convertible</td>\n",
       "      <td>rwd</td>\n",
       "      <td>front</td>\n",
       "      <td>88.6</td>\n",
       "      <td>...</td>\n",
       "      <td>130</td>\n",
       "      <td>mpfi</td>\n",
       "      <td>3.47</td>\n",
       "      <td>2.68</td>\n",
       "      <td>9.0</td>\n",
       "      <td>111</td>\n",
       "      <td>5000</td>\n",
       "      <td>21</td>\n",
       "      <td>27</td>\n",
       "      <td>13495</td>\n",
       "    </tr>\n",
       "    <tr>\n",
       "      <th>1</th>\n",
       "      <td>3</td>\n",
       "      <td>?</td>\n",
       "      <td>alfa-romero</td>\n",
       "      <td>gas</td>\n",
       "      <td>std</td>\n",
       "      <td>two</td>\n",
       "      <td>convertible</td>\n",
       "      <td>rwd</td>\n",
       "      <td>front</td>\n",
       "      <td>88.6</td>\n",
       "      <td>...</td>\n",
       "      <td>130</td>\n",
       "      <td>mpfi</td>\n",
       "      <td>3.47</td>\n",
       "      <td>2.68</td>\n",
       "      <td>9.0</td>\n",
       "      <td>111</td>\n",
       "      <td>5000</td>\n",
       "      <td>21</td>\n",
       "      <td>27</td>\n",
       "      <td>16500</td>\n",
       "    </tr>\n",
       "    <tr>\n",
       "      <th>2</th>\n",
       "      <td>1</td>\n",
       "      <td>?</td>\n",
       "      <td>alfa-romero</td>\n",
       "      <td>gas</td>\n",
       "      <td>std</td>\n",
       "      <td>two</td>\n",
       "      <td>hatchback</td>\n",
       "      <td>rwd</td>\n",
       "      <td>front</td>\n",
       "      <td>94.5</td>\n",
       "      <td>...</td>\n",
       "      <td>152</td>\n",
       "      <td>mpfi</td>\n",
       "      <td>2.68</td>\n",
       "      <td>3.47</td>\n",
       "      <td>9.0</td>\n",
       "      <td>154</td>\n",
       "      <td>5000</td>\n",
       "      <td>19</td>\n",
       "      <td>26</td>\n",
       "      <td>16500</td>\n",
       "    </tr>\n",
       "    <tr>\n",
       "      <th>3</th>\n",
       "      <td>2</td>\n",
       "      <td>164</td>\n",
       "      <td>audi</td>\n",
       "      <td>gas</td>\n",
       "      <td>std</td>\n",
       "      <td>four</td>\n",
       "      <td>sedan</td>\n",
       "      <td>fwd</td>\n",
       "      <td>front</td>\n",
       "      <td>99.8</td>\n",
       "      <td>...</td>\n",
       "      <td>109</td>\n",
       "      <td>mpfi</td>\n",
       "      <td>3.19</td>\n",
       "      <td>3.4</td>\n",
       "      <td>10.0</td>\n",
       "      <td>102</td>\n",
       "      <td>5500</td>\n",
       "      <td>24</td>\n",
       "      <td>30</td>\n",
       "      <td>13950</td>\n",
       "    </tr>\n",
       "    <tr>\n",
       "      <th>4</th>\n",
       "      <td>2</td>\n",
       "      <td>164</td>\n",
       "      <td>audi</td>\n",
       "      <td>gas</td>\n",
       "      <td>std</td>\n",
       "      <td>four</td>\n",
       "      <td>sedan</td>\n",
       "      <td>4wd</td>\n",
       "      <td>front</td>\n",
       "      <td>99.4</td>\n",
       "      <td>...</td>\n",
       "      <td>136</td>\n",
       "      <td>mpfi</td>\n",
       "      <td>3.19</td>\n",
       "      <td>3.4</td>\n",
       "      <td>8.0</td>\n",
       "      <td>115</td>\n",
       "      <td>5500</td>\n",
       "      <td>18</td>\n",
       "      <td>22</td>\n",
       "      <td>17450</td>\n",
       "    </tr>\n",
       "  </tbody>\n",
       "</table>\n",
       "<p>5 rows × 26 columns</p>\n",
       "</div>"
      ],
      "text/plain": [
       "   symboling normalized-losses         make fuel-type aspiration num-of-doors  \\\n",
       "0          3                 ?  alfa-romero       gas        std          two   \n",
       "1          3                 ?  alfa-romero       gas        std          two   \n",
       "2          1                 ?  alfa-romero       gas        std          two   \n",
       "3          2               164         audi       gas        std         four   \n",
       "4          2               164         audi       gas        std         four   \n",
       "\n",
       "    body-style drive-wheels engine-location  wheel-base  ...  engine-size  \\\n",
       "0  convertible          rwd           front        88.6  ...          130   \n",
       "1  convertible          rwd           front        88.6  ...          130   \n",
       "2    hatchback          rwd           front        94.5  ...          152   \n",
       "3        sedan          fwd           front        99.8  ...          109   \n",
       "4        sedan          4wd           front        99.4  ...          136   \n",
       "\n",
       "   fuel-system  bore  stroke compression-ratio horsepower  peak-rpm city-mpg  \\\n",
       "0         mpfi  3.47    2.68               9.0        111      5000       21   \n",
       "1         mpfi  3.47    2.68               9.0        111      5000       21   \n",
       "2         mpfi  2.68    3.47               9.0        154      5000       19   \n",
       "3         mpfi  3.19     3.4              10.0        102      5500       24   \n",
       "4         mpfi  3.19     3.4               8.0        115      5500       18   \n",
       "\n",
       "  highway-mpg  price  \n",
       "0          27  13495  \n",
       "1          27  16500  \n",
       "2          26  16500  \n",
       "3          30  13950  \n",
       "4          22  17450  \n",
       "\n",
       "[5 rows x 26 columns]"
      ]
     },
     "execution_count": 3,
     "metadata": {},
     "output_type": "execute_result"
    }
   ],
   "source": [
    "# cargar el dataset automobile data\n",
    "data = pd.read_csv('../data/Automobile_data.csv')\n",
    "print(data.shape)\n",
    "print(data.columns)\n",
    "data.info()\n",
    "data.head(5)"
   ]
  },
  {
   "cell_type": "code",
   "execution_count": 42,
   "metadata": {},
   "outputs": [
    {
     "name": "stdout",
     "output_type": "stream",
     "text": [
      "        symboling  wheel-base      length       width      height  \\\n",
      "count  205.000000  205.000000  205.000000  205.000000  205.000000   \n",
      "mean     0.834146   98.756585  174.049268   65.907805   53.724878   \n",
      "std      1.245307    6.021776   12.337289    2.145204    2.443522   \n",
      "min     -2.000000   86.600000  141.100000   60.300000   47.800000   \n",
      "25%      0.000000   94.500000  166.300000   64.100000   52.000000   \n",
      "50%      1.000000   97.000000  173.200000   65.500000   54.100000   \n",
      "75%      2.000000  102.400000  183.100000   66.900000   55.500000   \n",
      "max      3.000000  120.900000  208.100000   72.300000   59.800000   \n",
      "\n",
      "       curb-weight  engine-size  compression-ratio    city-mpg  highway-mpg  \n",
      "count   205.000000   205.000000         205.000000  205.000000   205.000000  \n",
      "mean   2555.565854   126.907317          10.142537   25.219512    30.751220  \n",
      "std     520.680204    41.642693           3.972040    6.542142     6.886443  \n",
      "min    1488.000000    61.000000           7.000000   13.000000    16.000000  \n",
      "25%    2145.000000    97.000000           8.600000   19.000000    25.000000  \n",
      "50%    2414.000000   120.000000           9.000000   24.000000    30.000000  \n",
      "75%    2935.000000   141.000000           9.400000   30.000000    34.000000  \n",
      "max    4066.000000   326.000000          23.000000   49.000000    54.000000  \n",
      "Valores faltantes: symboling            0\n",
      "normalized-losses    0\n",
      "make                 0\n",
      "fuel-type            0\n",
      "aspiration           0\n",
      "num-of-doors         0\n",
      "body-style           0\n",
      "drive-wheels         0\n",
      "engine-location      0\n",
      "wheel-base           0\n",
      "length               0\n",
      "width                0\n",
      "height               0\n",
      "curb-weight          0\n",
      "engine-type          0\n",
      "num-of-cylinders     0\n",
      "engine-size          0\n",
      "fuel-system          0\n",
      "bore                 0\n",
      "stroke               0\n",
      "compression-ratio    0\n",
      "horsepower           0\n",
      "peak-rpm             0\n",
      "city-mpg             0\n",
      "highway-mpg          0\n",
      "price                0\n",
      "dtype: int64\n"
     ]
    }
   ],
   "source": [
    "print(data.describe())\n",
    "print(\"Valores faltantes:\", data.isnull().sum())"
   ]
  },
  {
   "cell_type": "code",
   "execution_count": null,
   "metadata": {},
   "outputs": [],
   "source": [
    "data_type = {\n",
    "    'make' : 'category',\n",
    "    'num-of-doors' : 'category',\n",
    "    'horsepower' : 'int64',\n",
    "    'price' : 'float64',\n",
    "    'drive-wheels' : 'category',\n",
    "}\n",
    "data = data.astype(data_type)\n",
    "\n"
   ]
  },
  {
   "cell_type": "markdown",
   "metadata": {},
   "source": [
    "### Algunas columnas traen el simbolo \"?\""
   ]
  },
  {
   "cell_type": "code",
   "execution_count": 4,
   "metadata": {},
   "outputs": [
    {
     "name": "stdout",
     "output_type": "stream",
     "text": [
      "symboling            0\n",
      "normalized-losses    0\n",
      "make                 0\n",
      "fuel-type            0\n",
      "aspiration           0\n",
      "num-of-doors         0\n",
      "body-style           0\n",
      "drive-wheels         0\n",
      "engine-location      0\n",
      "wheel-base           0\n",
      "length               0\n",
      "width                0\n",
      "height               0\n",
      "curb-weight          0\n",
      "engine-type          0\n",
      "num-of-cylinders     0\n",
      "engine-size          0\n",
      "fuel-system          0\n",
      "bore                 0\n",
      "stroke               0\n",
      "compression-ratio    0\n",
      "horsepower           0\n",
      "peak-rpm             0\n",
      "city-mpg             0\n",
      "highway-mpg          0\n",
      "price                0\n",
      "dtype: int64\n"
     ]
    }
   ],
   "source": [
    "# Lista de columnas con valores problemáticos\n",
    "columns_with_issues = ['horsepower', 'engine-size']\n",
    "\n",
    "# Reemplaza '?' con NaN y convierte a numérico, forzando valores no convertibles a NaN\n",
    "for col in columns_with_issues:\n",
    "    data[col] = data[col].replace('?', np.nan)\n",
    "    data[col] = pd.to_numeric(data[col], errors='coerce')\n",
    "imputer = SimpleImputer(strategy='mean')\n",
    "data[columns_with_issues] = imputer.fit_transform(data[columns_with_issues])\n",
    "\n",
    "# Reemplaza '?' con NaN en la columna 'price' (si es que aparece)\n",
    "data['price'] = data['price'].replace('?', np.nan)\n",
    "\n",
    "# Elimina las filas donde 'price' es NaN (es decir, donde originalmente había '?')\n",
    "data = data.dropna(subset=['price'])\n",
    "\n",
    "data_type = {\n",
    "    'make' : 'category',\n",
    "    'aspiration' : 'category',\n",
    "    'drive-wheels' : 'category',\n",
    "    'horsepower' : 'float64',\n",
    "    'price' : 'float64'\n",
    "}\n",
    "data = data.astype(data_type)\n",
    "print(data.isnull().sum())\n"
   ]
  },
  {
   "cell_type": "code",
   "execution_count": null,
   "metadata": {},
   "outputs": [],
   "source": [
    "print(data.describe())"
   ]
  },
  {
   "cell_type": "markdown",
   "metadata": {},
   "source": [
    "# Parte 2: Preparación de Datos"
   ]
  },
  {
   "cell_type": "markdown",
   "metadata": {},
   "source": [
    "##  2. Preprocesamiento:\n",
    "\n",
    "* Selección de características importantes.\n",
    "* Transformación de variables categóricas.\n",
    "* División del conjunto de datos en entrenamiento y prueba.\n",
    "* Escalado de características."
   ]
  },
  {
   "cell_type": "code",
   "execution_count": 10,
   "metadata": {},
   "outputs": [],
   "source": [
    "# 1. Preparar los datos\n",
    "X = data[['horsepower', 'engine-size', 'make', 'drive-wheels', 'aspiration']]\n",
    "y = data['price']\n",
    "\n",
    "# 2. Convertir las variables categóricas a variables dummy (OneHotEncoding)\n",
    "X = pd.get_dummies(X, drop_first=True)  # Esto crea variables dummy para la columna 'make'\n",
    "\n",
    "# 3. Dividir el dataset en entrenamiento y prueba\n",
    "X_train, X_test, y_train, y_test = train_test_split(X, y, test_size=0.2, random_state=42)\n",
    "\n"
   ]
  },
  {
   "cell_type": "markdown",
   "metadata": {},
   "source": [
    "# Parte 3: Modelos de Regresión"
   ]
  },
  {
   "cell_type": "markdown",
   "metadata": {},
   "source": [
    "## Regresion lineal"
   ]
  },
  {
   "cell_type": "code",
   "execution_count": 11,
   "metadata": {},
   "outputs": [
    {
     "name": "stdout",
     "output_type": "stream",
     "text": [
      "Mean Absolute Error (MAE): 2111.65\n",
      "Mean Squared Error (MSE): 11340130.14\n",
      "R-squared (R²): 0.91\n"
     ]
    }
   ],
   "source": [
    "# Crear el modelo de regresión lineal\n",
    "model = LinearRegression()\n",
    "\n",
    "# Ajustar el modelo (entrenarlo)\n",
    "model.fit(X_train, y_train)\n",
    "\n",
    "# Hacer predicciones con el conjunto de prueba\n",
    "y_pred = model.predict(X_test)\n",
    "\n",
    "# Evaluar el modelo\n",
    "lmae = mean_absolute_error(y_test, y_pred)\n",
    "lmse = mean_squared_error(y_test, y_pred)\n",
    "lr2 = r2_score(y_test, y_pred)\n",
    "\n",
    "# Imprimir los resultados\n",
    "print(f\"Mean Absolute Error (MAE): {lmae:.2f}\")\n",
    "print(f\"Mean Squared Error (MSE): {lmse:.2f}\")\n",
    "print(f\"R-squared (R²): {lr2:.2f}\")"
   ]
  },
  {
   "cell_type": "markdown",
   "metadata": {},
   "source": [
    "## K-Nearest Neighbors (KNN):\n",
    "\n",
    "Entrenamiento del modelo.\n",
    "Evaluación del rendimiento (MSE y R²).\n"
   ]
  },
  {
   "cell_type": "code",
   "execution_count": 12,
   "metadata": {},
   "outputs": [
    {
     "name": "stdout",
     "output_type": "stream",
     "text": [
      "Mean Absolute Error (MAE): 3139.46\n",
      "Mean Squared Error (MSE): 27941089.98\n",
      "R-squared (R²): 0.77\n"
     ]
    }
   ],
   "source": [
    "# 1. Preparar los datos\n",
    "X = data[['horsepower', 'engine-size', 'make', 'drive-wheels', 'aspiration']]\n",
    "y = data['price']\n",
    "\n",
    "# 2. Definir columnas numéricas y categóricas\n",
    "numeric_features = ['horsepower', 'engine-size']\n",
    "categorical_features = ['make', 'drive-wheels', 'aspiration']\n",
    "\n",
    "# 3. Crear un transformador de columnas para escalar numéricas y OneHotEncode en categóricas\n",
    "preprocessor = ColumnTransformer(\n",
    "    transformers=[\n",
    "        ('num', StandardScaler(), numeric_features),\n",
    "        ('cat', OneHotEncoder(drop='first'), categorical_features)\n",
    "    ])\n",
    "\n",
    "# 4. Crear un pipeline para escalar, codificar y aplicar KNN\n",
    "model = Pipeline(steps=[\n",
    "    ('preprocessor', preprocessor),\n",
    "    ('knn', KNeighborsRegressor(n_neighbors=5))\n",
    "])\n",
    "\n",
    "# 5. Dividir el dataset en entrenamiento y prueba\n",
    "X_train, X_test, y_train, y_test = train_test_split(X, y, test_size=0.2, random_state=42)\n",
    "\n",
    "# 6. Entrenar el modelo\n",
    "model.fit(X_train, y_train)\n",
    "\n",
    "# 7. Hacer predicciones\n",
    "y_pred = model.predict(X_test)\n",
    "\n",
    "# 8. Evaluar el modelo\n",
    "kmae = mean_absolute_error(y_test, y_pred)\n",
    "kmse = mean_squared_error(y_test, y_pred)\n",
    "kr2 = r2_score(y_test, y_pred)\n",
    "\n",
    "# 9. Imprimir los resultados\n",
    "print(f\"Mean Absolute Error (MAE): {kmae:.2f}\")\n",
    "print(f\"Mean Squared Error (MSE): {kmse:.2f}\")\n",
    "print(f\"R-squared (R²): {kr2:.2f}\")\n"
   ]
  },
  {
   "cell_type": "markdown",
   "metadata": {},
   "source": [
    "## Árbol de Decisión:\n",
    "\n",
    "Entrenamiento del modelo.\n",
    "Evaluación del rendimiento (MSE y R²).\n"
   ]
  },
  {
   "cell_type": "code",
   "execution_count": 14,
   "metadata": {},
   "outputs": [
    {
     "name": "stdout",
     "output_type": "stream",
     "text": [
      "Mean Absolute Error (MAE): 2038.78\n",
      "Mean Squared Error (MSE): 8363499.82\n",
      "R-squared (R²): 0.93\n"
     ]
    }
   ],
   "source": [
    "# Preparar los datos\n",
    "X = data[['horsepower', 'engine-size', 'make', 'drive-wheels', 'aspiration']]\n",
    "y = data['price']\n",
    "\n",
    "# Definir columnas numéricas y categóricas\n",
    "numeric_features = ['horsepower', 'engine-size']\n",
    "categorical_features = ['make', 'drive-wheels', 'aspiration']\n",
    "\n",
    "# Crear un transformador de columnas solo para OneHotEncode en categóricas\n",
    "preprocessor = ColumnTransformer(\n",
    "    transformers=[\n",
    "        ('cat', OneHotEncoder(drop='first'), categorical_features)\n",
    "    ],\n",
    "    remainder='passthrough'  # Mantener las columnas numéricas sin transformar\n",
    ")\n",
    "\n",
    "# Crear un pipeline para codificar y aplicar el árbol de decisión\n",
    "model = Pipeline(steps=[\n",
    "    ('preprocessor', preprocessor),\n",
    "    ('tree', DecisionTreeRegressor(random_state=42))\n",
    "])\n",
    "\n",
    "# Dividir el dataset en entrenamiento y prueba\n",
    "X_train, X_test, y_train, y_test = train_test_split(X, y, test_size=0.2, random_state=42)\n",
    "\n",
    "# Entrenar el modelo\n",
    "model.fit(X_train, y_train)\n",
    "\n",
    "# Hacer predicciones\n",
    "y_pred = model.predict(X_test)\n",
    "\n",
    "# Evaluar el modelo\n",
    "amae = mean_absolute_error(y_test, y_pred)\n",
    "amse = mean_squared_error(y_test, y_pred)\n",
    "ar2 = r2_score(y_test, y_pred)\n",
    "\n",
    "# Imprimir los resultados\n",
    "print(f\"Mean Absolute Error (MAE): {amae:.2f}\")\n",
    "print(f\"Mean Squared Error (MSE): {amse:.2f}\")\n",
    "print(f\"R-squared (R²): {ar2:.2f}\")"
   ]
  },
  {
   "cell_type": "markdown",
   "metadata": {},
   "source": [
    "# Parte 4: Benchmarking y Comparación de Modelos"
   ]
  },
  {
   "cell_type": "markdown",
   "metadata": {},
   "source": [
    " ## Comparación de Modelos:\n",
    "\n",
    "Comparar los resultados de los tres modelos en términos de MSE y R².\n",
    "Discusión sobre las diferencias en el rendimiento de los modelos.\n",
    "\n"
   ]
  },
  {
   "cell_type": "code",
   "execution_count": 15,
   "metadata": {},
   "outputs": [
    {
     "name": "stdout",
     "output_type": "stream",
     "text": [
      "                Modelo          MAE           MSE        R²\n",
      "0     Regresión Lineal  2111.650058  1.134013e+07  0.907312\n",
      "1  K-Nearest Neighbors  3139.463415  2.794109e+07  0.771624\n",
      "2    Árbol de Decisión  2038.782811  8.363500e+06  0.931641\n"
     ]
    }
   ],
   "source": [
    "\n",
    "results = {\n",
    "    'Modelo': ['Regresión Lineal', 'K-Nearest Neighbors', 'Árbol de Decisión'],\n",
    "    'MAE': [lmae, kmae, amae],\n",
    "    'MSE': [lmse, kmse, amse],\n",
    "    'R²': [lr2, kr2, ar2]\n",
    "}\n",
    "\n",
    "# Crear un DataFrame para visualizar los resultados\n",
    "results_df = pd.DataFrame(results)\n",
    "print(results_df)"
   ]
  },
  {
   "cell_type": "markdown",
   "metadata": {},
   "source": [
    "# Conclusion:\n",
    "Claramente el modelo de Arbol de decision tiene un mejor resultado de prediccion al tener un r2 muy cercano al 1, ademas, tiene el MSE y el MAE mas bajo entre los 3 modelos, lo que indica que el modelo de Arbol de decision es el mas preciso y efectivo para este trabajo"
   ]
  }
 ],
 "metadata": {
  "kernelspec": {
   "display_name": "ml_env",
   "language": "python",
   "name": "python3"
  },
  "language_info": {
   "codemirror_mode": {
    "name": "ipython",
    "version": 3
   },
   "file_extension": ".py",
   "mimetype": "text/x-python",
   "name": "python",
   "nbconvert_exporter": "python",
   "pygments_lexer": "ipython3",
   "version": "3.12.7"
  }
 },
 "nbformat": 4,
 "nbformat_minor": 2
}
